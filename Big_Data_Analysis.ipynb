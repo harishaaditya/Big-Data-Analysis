{
  "nbformat": 4,
  "nbformat_minor": 0,
  "metadata": {
    "colab": {
      "provenance": []
    },
    "kernelspec": {
      "name": "python3",
      "display_name": "Python 3"
    },
    "language_info": {
      "name": "python"
    }
  },
  "cells": [
    {
      "cell_type": "code",
      "source": [
        "#Introduction\n",
        "#In this project, we perform Big Data analysis using the Titanic passenger dataset.\n",
        "#We use Apache PySpark to handle data at scale and demonstrate fundamental processing techniques such as\n",
        "#cleaning, aggregation, and insights extraction.\n",
        "#The analysis covers survival rates, passenger class distribution, and average age analysis."
      ],
      "metadata": {
        "id": "vJazaHeQ9n-a"
      },
      "execution_count": null,
      "outputs": []
    },
    {
      "cell_type": "code",
      "execution_count": 1,
      "metadata": {
        "colab": {
          "base_uri": "https://localhost:8080/"
        },
        "id": "kzdSwSUp7C-S",
        "outputId": "7907f99e-77e3-47ea-bbb1-d4a640a3cf08"
      },
      "outputs": [
        {
          "output_type": "stream",
          "name": "stdout",
          "text": [
            "Requirement already satisfied: pyspark in /usr/local/lib/python3.11/dist-packages (3.5.5)\n",
            "Requirement already satisfied: py4j==0.10.9.7 in /usr/local/lib/python3.11/dist-packages (from pyspark) (0.10.9.7)\n"
          ]
        }
      ],
      "source": [
        "# Install PySpark\n",
        "!pip install pyspark"
      ]
    },
    {
      "cell_type": "code",
      "source": [
        "!wget https://raw.githubusercontent.com/datasciencedojo/datasets/master/titanic.csv -O /content/titanic.csv\n"
      ],
      "metadata": {
        "colab": {
          "base_uri": "https://localhost:8080/"
        },
        "id": "KzaWu1Fq7q0W",
        "outputId": "70b8e83d-b622-4e85-d6b3-381d006b3b40"
      },
      "execution_count": 4,
      "outputs": [
        {
          "output_type": "stream",
          "name": "stdout",
          "text": [
            "--2025-04-27 11:12:42--  https://raw.githubusercontent.com/datasciencedojo/datasets/master/titanic.csv\n",
            "Resolving raw.githubusercontent.com (raw.githubusercontent.com)... 185.199.108.133, 185.199.109.133, 185.199.110.133, ...\n",
            "Connecting to raw.githubusercontent.com (raw.githubusercontent.com)|185.199.108.133|:443... connected.\n",
            "HTTP request sent, awaiting response... 200 OK\n",
            "Length: 60302 (59K) [text/plain]\n",
            "Saving to: ‘/content/titanic.csv’\n",
            "\n",
            "\r/content/titanic.cs   0%[                    ]       0  --.-KB/s               \r/content/titanic.cs 100%[===================>]  58.89K  --.-KB/s    in 0.01s   \n",
            "\n",
            "2025-04-27 11:12:42 (3.87 MB/s) - ‘/content/titanic.csv’ saved [60302/60302]\n",
            "\n"
          ]
        }
      ]
    },
    {
      "cell_type": "code",
      "source": [
        "# Step 2: Create a Spark session\n",
        "from pyspark.sql import SparkSession\n",
        "spark = SparkSession.builder.appName(\"Titanic Big Data Analysis\").getOrCreate()\n",
        "\n",
        "# Step 3: Load the Titanic dataset from the local file\n",
        "df = spark.read.csv('/content/titanic.csv', header=True, inferSchema=True)\n",
        "\n",
        "# Step 4: Data exploration (Check schema and first few rows)\n",
        "df.printSchema()\n",
        "df.show(5)\n",
        "print(f\"Total Records: {df.count()}\")\n"
      ],
      "metadata": {
        "colab": {
          "base_uri": "https://localhost:8080/"
        },
        "id": "XfHKOuaS8wx_",
        "outputId": "ea24175b-fe2b-46a0-e52a-3dbab38a88e3"
      },
      "execution_count": 5,
      "outputs": [
        {
          "output_type": "stream",
          "name": "stdout",
          "text": [
            "root\n",
            " |-- PassengerId: integer (nullable = true)\n",
            " |-- Survived: integer (nullable = true)\n",
            " |-- Pclass: integer (nullable = true)\n",
            " |-- Name: string (nullable = true)\n",
            " |-- Sex: string (nullable = true)\n",
            " |-- Age: double (nullable = true)\n",
            " |-- SibSp: integer (nullable = true)\n",
            " |-- Parch: integer (nullable = true)\n",
            " |-- Ticket: string (nullable = true)\n",
            " |-- Fare: double (nullable = true)\n",
            " |-- Cabin: string (nullable = true)\n",
            " |-- Embarked: string (nullable = true)\n",
            "\n",
            "+-----------+--------+------+--------------------+------+----+-----+-----+----------------+-------+-----+--------+\n",
            "|PassengerId|Survived|Pclass|                Name|   Sex| Age|SibSp|Parch|          Ticket|   Fare|Cabin|Embarked|\n",
            "+-----------+--------+------+--------------------+------+----+-----+-----+----------------+-------+-----+--------+\n",
            "|          1|       0|     3|Braund, Mr. Owen ...|  male|22.0|    1|    0|       A/5 21171|   7.25| NULL|       S|\n",
            "|          2|       1|     1|Cumings, Mrs. Joh...|female|38.0|    1|    0|        PC 17599|71.2833|  C85|       C|\n",
            "|          3|       1|     3|Heikkinen, Miss. ...|female|26.0|    0|    0|STON/O2. 3101282|  7.925| NULL|       S|\n",
            "|          4|       1|     1|Futrelle, Mrs. Ja...|female|35.0|    1|    0|          113803|   53.1| C123|       S|\n",
            "|          5|       0|     3|Allen, Mr. Willia...|  male|35.0|    0|    0|          373450|   8.05| NULL|       S|\n",
            "+-----------+--------+------+--------------------+------+----+-----+-----+----------------+-------+-----+--------+\n",
            "only showing top 5 rows\n",
            "\n",
            "Total Records: 891\n"
          ]
        }
      ]
    },
    {
      "cell_type": "code",
      "source": [
        "\n",
        "\n",
        "# Step 5: Data cleaning (drop rows with null 'Age' and 'Fare' > 0)\n",
        "df_clean = df.dropna(subset=[\"Age\"])\n",
        "df_clean = df_clean.filter((col(\"Fare\") > 0))\n",
        "\n",
        "# Step 6: Data Analysis: Survival Rate by Gender\n",
        "survival_by_gender = df_clean.groupBy(\"Sex\") \\\n",
        "    .agg(\n",
        "        avg(\"Survived\").alias(\"survival_rate\"),\n",
        "        count(\"*\").alias(\"num_passengers\")\n",
        "    ) \\\n",
        "    .orderBy(desc(\"survival_rate\"))\n",
        "\n",
        "survival_by_gender.show()\n",
        "\n",
        "# Step 7: Data Analysis: Survival Rate by Passenger Class\n",
        "survival_by_class = df_clean.groupBy(\"Pclass\") \\\n",
        "    .agg(\n",
        "        avg(\"Survived\").alias(\"survival_rate\"),\n",
        "        count(\"*\").alias(\"num_passengers\")\n",
        "    ) \\\n",
        "    .orderBy(\"Pclass\")\n",
        "\n",
        "survival_by_class.show()\n",
        "\n",
        "# Step 8: Data Analysis: Average Age by Survival Status\n",
        "average_age = df_clean.groupBy(\"Survived\") \\\n",
        "    .agg(\n",
        "        avg(\"Age\").alias(\"average_age\")\n",
        "    )\n",
        "\n",
        "average_age.show()\n",
        "\n",
        "\n"
      ],
      "metadata": {
        "colab": {
          "base_uri": "https://localhost:8080/"
        },
        "id": "dOtmqRM_83O8",
        "outputId": "4e2b40a1-7ce6-40f4-e3c6-d3759412fa66"
      },
      "execution_count": 6,
      "outputs": [
        {
          "output_type": "stream",
          "name": "stdout",
          "text": [
            "+------+------------------+--------------+\n",
            "|   Sex|     survival_rate|num_passengers|\n",
            "+------+------------------+--------------+\n",
            "|female|0.7547892720306514|           261|\n",
            "|  male|0.2062780269058296|           446|\n",
            "+------+------------------+--------------+\n",
            "\n",
            "+------+-------------------+--------------+\n",
            "|Pclass|      survival_rate|num_passengers|\n",
            "+------+-------------------+--------------+\n",
            "|     1| 0.6666666666666666|           183|\n",
            "|     2| 0.4797687861271676|           173|\n",
            "|     3|0.23931623931623933|           351|\n",
            "+------+-------------------+--------------+\n",
            "\n",
            "+--------+------------------+\n",
            "|Survived|       average_age|\n",
            "+--------+------------------+\n",
            "|       1|28.355259515570935|\n",
            "|       0| 30.53708133971292|\n",
            "+--------+------------------+\n",
            "\n"
          ]
        }
      ]
    },
    {
      "cell_type": "code",
      "source": [
        "# Step 9: Insights\n",
        "# - Insight 1: Females had a higher survival rate than males.\n",
        "# - Insight 2: First class passengers had a higher survival rate.\n",
        "# - Insight 3: Younger passengers tended to survive more than older ones."
      ],
      "metadata": {
        "id": "fMZBT0aB9g8B"
      },
      "execution_count": 7,
      "outputs": []
    },
    {
      "cell_type": "code",
      "source": [],
      "metadata": {
        "id": "Q56qm0Ll917R"
      },
      "execution_count": null,
      "outputs": []
    }
  ]
}